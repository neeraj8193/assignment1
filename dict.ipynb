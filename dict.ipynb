{
 "cells": [
  {
   "cell_type": "code",
   "execution_count": 1,
   "id": "a11c0035-ca3e-49a1-88c7-a9ee20136f22",
   "metadata": {},
   "outputs": [],
   "source": [
    "d={}"
   ]
  },
  {
   "cell_type": "code",
   "execution_count": 2,
   "id": "2c040d32-8589-4e03-b8f4-7bbbad79bd9d",
   "metadata": {},
   "outputs": [
    {
     "data": {
      "text/plain": [
       "dict"
      ]
     },
     "execution_count": 2,
     "metadata": {},
     "output_type": "execute_result"
    }
   ],
   "source": [
    "type(d)"
   ]
  },
  {
   "cell_type": "code",
   "execution_count": 3,
   "id": "10afcd71-650d-4fc0-b3c8-5b1ade774714",
   "metadata": {},
   "outputs": [],
   "source": [
    "d1={'name':'neeraj'}"
   ]
  },
  {
   "cell_type": "code",
   "execution_count": 4,
   "id": "c5005f1d-4a12-4eaa-a722-6879755df923",
   "metadata": {},
   "outputs": [
    {
     "data": {
      "text/plain": [
       "{'name': 'neeraj'}"
      ]
     },
     "execution_count": 4,
     "metadata": {},
     "output_type": "execute_result"
    }
   ],
   "source": [
    "d1"
   ]
  },
  {
   "cell_type": "code",
   "execution_count": 5,
   "id": "e40450f2-aabf-4515-994c-a21bde2bc819",
   "metadata": {},
   "outputs": [],
   "source": [
    "d2={\"name\":\"neeraj\",\"course\":\"data science\",\"email\":\"nggupta\",True:\"yes\"}"
   ]
  },
  {
   "cell_type": "code",
   "execution_count": 6,
   "id": "468a03a4-d144-41a2-8b1c-4a3ccd620b61",
   "metadata": {},
   "outputs": [
    {
     "data": {
      "text/plain": [
       "{'name': 'neeraj', 'course': 'data science', 'email': 'nggupta', True: 'yes'}"
      ]
     },
     "execution_count": 6,
     "metadata": {},
     "output_type": "execute_result"
    }
   ],
   "source": [
    "d2\n"
   ]
  },
  {
   "cell_type": "code",
   "execution_count": 7,
   "id": "8141680e-7c80-4c81-972e-fc366aa5dfe8",
   "metadata": {},
   "outputs": [
    {
     "data": {
      "text/plain": [
       "'neeraj'"
      ]
     },
     "execution_count": 7,
     "metadata": {},
     "output_type": "execute_result"
    }
   ],
   "source": [
    "d2['name']"
   ]
  },
  {
   "cell_type": "code",
   "execution_count": 8,
   "id": "143dae87-f530-4604-8550-0f1ec2a96343",
   "metadata": {},
   "outputs": [
    {
     "data": {
      "text/plain": [
       "'yes'"
      ]
     },
     "execution_count": 8,
     "metadata": {},
     "output_type": "execute_result"
    }
   ],
   "source": [
    "d2[1]"
   ]
  },
  {
   "cell_type": "code",
   "execution_count": null,
   "id": "eb46e57c-7800-4a98-a968-7ff1858811fe",
   "metadata": {},
   "outputs": [],
   "source": [
    " "
   ]
  },
  {
   "cell_type": "code",
   "execution_count": 9,
   "id": "d111e0ea-dc18-4d7e-a868-350b46de481d",
   "metadata": {},
   "outputs": [],
   "source": [
    "d4={'name':'neeraj','mail':'nggupta8176','name':'abhi'}"
   ]
  },
  {
   "cell_type": "code",
   "execution_count": 10,
   "id": "82403a5f-716d-401d-8d6d-081b232d4e9d",
   "metadata": {},
   "outputs": [
    {
     "data": {
      "text/plain": [
       "'abhi'"
      ]
     },
     "execution_count": 10,
     "metadata": {},
     "output_type": "execute_result"
    }
   ],
   "source": [
    "d4['name']"
   ]
  },
  {
   "cell_type": "code",
   "execution_count": 11,
   "id": "813174b6-8e45-4b24-9c9b-47a973aea143",
   "metadata": {},
   "outputs": [],
   "source": [
    "\n",
    "\n",
    "d5={'company':'pwskills','course':['web develpoment','data science','ds']} "
   ]
  },
  {
   "cell_type": "code",
   "execution_count": 12,
   "id": "284959d5-b3a6-4408-882b-f110869969aa",
   "metadata": {},
   "outputs": [
    {
     "data": {
      "text/plain": [
       "{'company': 'pwskills', 'course': ['web develpoment', 'data science', 'ds']}"
      ]
     },
     "execution_count": 12,
     "metadata": {},
     "output_type": "execute_result"
    }
   ],
   "source": [
    "d5"
   ]
  },
  {
   "cell_type": "code",
   "execution_count": 13,
   "id": "6ea09c6f-d305-4208-b5c9-6cc385417d85",
   "metadata": {},
   "outputs": [
    {
     "data": {
      "text/plain": [
       "['web develpoment', 'data science', 'ds']"
      ]
     },
     "execution_count": 13,
     "metadata": {},
     "output_type": "execute_result"
    }
   ],
   "source": [
    "d5['course']"
   ]
  },
  {
   "cell_type": "code",
   "execution_count": 14,
   "id": "2d1310fb-132d-4785-bdec-c471dda215b5",
   "metadata": {},
   "outputs": [
    {
     "data": {
      "text/plain": [
       "'ds'"
      ]
     },
     "execution_count": 14,
     "metadata": {},
     "output_type": "execute_result"
    }
   ],
   "source": [
    "d5['course'][2]"
   ]
  },
  {
   "cell_type": "code",
   "execution_count": 15,
   "id": "254d4fdc-b0ec-4bcf-9042-3cecd78161e6",
   "metadata": {},
   "outputs": [],
   "source": [
    "d6={'number':[2,3,4,5,33,6],'assignment':(44,56,78,6),'launch_date':{2,3,4,8},'class_timing':{'web_development':8,'data_science':4}}"
   ]
  },
  {
   "cell_type": "code",
   "execution_count": 16,
   "id": "f925bde8-0cfb-4fee-b98f-d19c2115e0fb",
   "metadata": {},
   "outputs": [
    {
     "data": {
      "text/plain": [
       "{'number': [2, 3, 4, 5, 33, 6],\n",
       " 'assignment': (44, 56, 78, 6),\n",
       " 'launch_date': {2, 3, 4, 8},\n",
       " 'class_timing': {'web_development': 8, 'data_science': 4}}"
      ]
     },
     "execution_count": 16,
     "metadata": {},
     "output_type": "execute_result"
    }
   ],
   "source": [
    "d6"
   ]
  },
  {
   "cell_type": "code",
   "execution_count": 17,
   "id": "293a6c8f-48d6-4cb7-96b0-a59b76c799b7",
   "metadata": {},
   "outputs": [
    {
     "data": {
      "text/plain": [
       "{'web_development': 8, 'data_science': 4}"
      ]
     },
     "execution_count": 17,
     "metadata": {},
     "output_type": "execute_result"
    }
   ],
   "source": [
    "d6['class_timing']"
   ]
  },
  {
   "cell_type": "code",
   "execution_count": 18,
   "id": "ec6f6d59-351f-438a-8365-e402b742d55f",
   "metadata": {},
   "outputs": [
    {
     "data": {
      "text/plain": [
       "4"
      ]
     },
     "execution_count": 18,
     "metadata": {},
     "output_type": "execute_result"
    }
   ],
   "source": [
    "d6['class_timing']['data_science']"
   ]
  },
  {
   "cell_type": "code",
   "execution_count": 19,
   "id": "4b5262db-a8c7-459b-89d3-42f424d02185",
   "metadata": {},
   "outputs": [],
   "source": [
    "d6['mentor']=['anurag sir','sudhanshu sir','krish sir']"
   ]
  },
  {
   "cell_type": "code",
   "execution_count": 20,
   "id": "8ab77860-70e4-431e-b746-ee5b9e10e592",
   "metadata": {},
   "outputs": [
    {
     "data": {
      "text/plain": [
       "{'number': [2, 3, 4, 5, 33, 6],\n",
       " 'assignment': (44, 56, 78, 6),\n",
       " 'launch_date': {2, 3, 4, 8},\n",
       " 'class_timing': {'web_development': 8, 'data_science': 4},\n",
       " 'mentor': ['anurag sir', 'sudhanshu sir', 'krish sir']}"
      ]
     },
     "execution_count": 20,
     "metadata": {},
     "output_type": "execute_result"
    }
   ],
   "source": [
    "d6"
   ]
  },
  {
   "cell_type": "code",
   "execution_count": 21,
   "id": "73d85b7d-735a-4813-99a2-060f8e4a639c",
   "metadata": {},
   "outputs": [],
   "source": [
    "del d6['number']"
   ]
  },
  {
   "cell_type": "code",
   "execution_count": 22,
   "id": "1a524c66-c860-4ba3-a53b-8ac76bbd869b",
   "metadata": {},
   "outputs": [
    {
     "data": {
      "text/plain": [
       "{'assignment': (44, 56, 78, 6),\n",
       " 'launch_date': {2, 3, 4, 8},\n",
       " 'class_timing': {'web_development': 8, 'data_science': 4},\n",
       " 'mentor': ['anurag sir', 'sudhanshu sir', 'krish sir']}"
      ]
     },
     "execution_count": 22,
     "metadata": {},
     "output_type": "execute_result"
    }
   ],
   "source": [
    "d6"
   ]
  },
  {
   "cell_type": "code",
   "execution_count": 23,
   "id": "fa1e8461-15cb-4616-8159-05b14135908d",
   "metadata": {},
   "outputs": [
    {
     "data": {
      "text/plain": [
       "dict_keys(['assignment', 'launch_date', 'class_timing', 'mentor'])"
      ]
     },
     "execution_count": 23,
     "metadata": {},
     "output_type": "execute_result"
    }
   ],
   "source": [
    "d6.keys()"
   ]
  },
  {
   "cell_type": "code",
   "execution_count": 24,
   "id": "aadefc39-1272-4670-b4c6-5135b724a9da",
   "metadata": {},
   "outputs": [
    {
     "data": {
      "text/plain": [
       "['assignment', 'launch_date', 'class_timing', 'mentor']"
      ]
     },
     "execution_count": 24,
     "metadata": {},
     "output_type": "execute_result"
    }
   ],
   "source": [
    "list(d6.keys())"
   ]
  },
  {
   "cell_type": "code",
   "execution_count": 25,
   "id": "c9a56d84-5b1e-4b74-81a0-2c58f3d59f47",
   "metadata": {},
   "outputs": [
    {
     "data": {
      "text/plain": [
       "dict_values([(44, 56, 78, 6), {8, 2, 3, 4}, {'web_development': 8, 'data_science': 4}, ['anurag sir', 'sudhanshu sir', 'krish sir']])"
      ]
     },
     "execution_count": 25,
     "metadata": {},
     "output_type": "execute_result"
    }
   ],
   "source": [
    "d6.values()"
   ]
  },
  {
   "cell_type": "code",
   "execution_count": 26,
   "id": "92d7573e-9c82-4ec9-8fa0-0d01dc29844b",
   "metadata": {},
   "outputs": [
    {
     "data": {
      "text/plain": [
       "{'assignment': (44, 56, 78, 6),\n",
       " 'launch_date': {2, 3, 4, 8},\n",
       " 'class_timing': {'web_development': 8, 'data_science': 4},\n",
       " 'mentor': ['anurag sir', 'sudhanshu sir', 'krish sir']}"
      ]
     },
     "execution_count": 26,
     "metadata": {},
     "output_type": "execute_result"
    }
   ],
   "source": [
    "d6"
   ]
  },
  {
   "cell_type": "code",
   "execution_count": 27,
   "id": "cfd1197f-0854-4884-a9ba-6c190f8de327",
   "metadata": {},
   "outputs": [
    {
     "name": "stdin",
     "output_type": "stream",
     "text": [
      "enter your marks 7\n"
     ]
    },
    {
     "name": "stdout",
     "output_type": "stream",
     "text": [
      "you will be a part of a3 batch\n"
     ]
    }
   ],
   "source": [
    "marks=int(input(\"enter your marks\"))\n",
    "if marks >= 80:\n",
    "    print(\"you will be the part of ab batch\")\n",
    "elif marks>= 60 and marks<80:\n",
    "    print(\"you will be a part of a1 batch\")\n",
    "elif marks>=40 and marks<60:\n",
    "    print(\"you will be a part of a2 batch\")\n",
    "else:\n",
    "    print(\"you will be a part of a3 batch\")\n",
    "    \n",
    "    \n"
   ]
  },
  {
   "cell_type": "code",
   "execution_count": 28,
   "id": "414c14e6-3220-4604-883f-43c29c385c72",
   "metadata": {},
   "outputs": [
    {
     "name": "stdin",
     "output_type": "stream",
     "text": [
      "enter the price 65\n"
     ]
    },
    {
     "name": "stdout",
     "output_type": "stream",
     "text": [
      "i will not purchase\n"
     ]
    }
   ],
   "source": [
    "price=int(input('enter the price'))\n",
    "if price > 1000:\n",
    "    print(\"i will purchase\")\n",
    "    if(price >5000):\n",
    "        print(\"it is too much\")\n",
    "else:\n",
    "    print(\"i will not purchase\")"
   ]
  },
  {
   "cell_type": "code",
   "execution_count": 29,
   "id": "85ecbc0d-dc38-4e3e-8b78-fdfd5f356eb6",
   "metadata": {},
   "outputs": [],
   "source": [
    "l=[9,3,45,6,7,78,8]"
   ]
  },
  {
   "cell_type": "code",
   "execution_count": 30,
   "id": "4577412c-81ff-4747-af73-4527f46e3ac1",
   "metadata": {},
   "outputs": [
    {
     "data": {
      "text/plain": [
       "10"
      ]
     },
     "execution_count": 30,
     "metadata": {},
     "output_type": "execute_result"
    }
   ],
   "source": [
    "l[0]+1"
   ]
  },
  {
   "cell_type": "code",
   "execution_count": 31,
   "id": "4a2076f8-9e93-4833-b025-8bee2d14e725",
   "metadata": {},
   "outputs": [],
   "source": [
    "l1=[]"
   ]
  },
  {
   "cell_type": "code",
   "execution_count": 32,
   "id": "82c9c259-19ab-42c6-b246-9b8d6430ffb7",
   "metadata": {},
   "outputs": [],
   "source": [
    "l1.append(l[0]+1)"
   ]
  },
  {
   "cell_type": "code",
   "execution_count": 33,
   "id": "cfeec1cb-ea60-4f45-b6f4-dd39aa8752f8",
   "metadata": {},
   "outputs": [
    {
     "data": {
      "text/plain": [
       "[10]"
      ]
     },
     "execution_count": 33,
     "metadata": {},
     "output_type": "execute_result"
    }
   ],
   "source": [
    "l1"
   ]
  },
  {
   "cell_type": "code",
   "execution_count": 34,
   "id": "d1e0a09c-b3a9-402b-a292-458db6d57b4a",
   "metadata": {},
   "outputs": [
    {
     "name": "stdout",
     "output_type": "stream",
     "text": [
      "10\n",
      "4\n",
      "46\n",
      "7\n",
      "8\n",
      "79\n",
      "9\n"
     ]
    },
    {
     "data": {
      "text/plain": [
       "[]"
      ]
     },
     "execution_count": 34,
     "metadata": {},
     "output_type": "execute_result"
    }
   ],
   "source": [
    "l1=[]\n",
    "for i in l:\n",
    "    print(i+1)\n",
    "    \n",
    "l1"
   ]
  },
  {
   "cell_type": "code",
   "execution_count": 35,
   "id": "1c894325-5ec5-4a6a-a19c-9e54ef09e4dc",
   "metadata": {},
   "outputs": [],
   "source": [
    "l=[\"ng\" ,\"ankit\", \"abhi\", \"hee\"]"
   ]
  },
  {
   "cell_type": "code",
   "execution_count": 36,
   "id": "e62d4604-6b55-4610-98e0-5bfe2ad934d0",
   "metadata": {},
   "outputs": [
    {
     "name": "stdout",
     "output_type": "stream",
     "text": [
      "ng\n",
      "ankit\n",
      "abhi\n",
      "hee\n"
     ]
    },
    {
     "data": {
      "text/plain": [
       "['NG', 'ANKIT', 'ABHI', 'HEE']"
      ]
     },
     "execution_count": 36,
     "metadata": {},
     "output_type": "execute_result"
    }
   ],
   "source": [
    "l1=[]\n",
    "for i in l:\n",
    "    print(i)\n",
    "    l1.append(i.upper())\n",
    "l1"
   ]
  },
  {
   "cell_type": "code",
   "execution_count": 37,
   "id": "fb88accf-f387-4569-9fdb-5b107fcffdff",
   "metadata": {},
   "outputs": [],
   "source": [
    "l1.append(\"hi\")"
   ]
  },
  {
   "cell_type": "markdown",
   "id": "9dcf7610-be3d-4068-ba9b-7e85849a61dc",
   "metadata": {},
   "source": [
    "# l1# "
   ]
  },
  {
   "cell_type": "code",
   "execution_count": 38,
   "id": "846a46d8-34c3-4104-8ca5-b925f618693b",
   "metadata": {},
   "outputs": [
    {
     "data": {
      "text/plain": [
       "['NG', 'ANKIT', 'ABHI', 'HEE', 'hi']"
      ]
     },
     "execution_count": 38,
     "metadata": {},
     "output_type": "execute_result"
    }
   ],
   "source": [
    "l1"
   ]
  },
  {
   "cell_type": "code",
   "execution_count": 39,
   "id": "63ed4be4-d3b6-464f-8c74-70fd309410db",
   "metadata": {},
   "outputs": [],
   "source": [
    "l5=[\"3\",3,5,6,7,8,\"hii\",\"heloo\"]"
   ]
  },
  {
   "cell_type": "code",
   "execution_count": 42,
   "id": "048d576a-0437-4455-bad6-3aeea18736b6",
   "metadata": {},
   "outputs": [],
   "source": [
    "l7=[]\n",
    "l8=[]\n",
    "for i in l5 :\n",
    "    if type(i) == int or type(i)== float:\n",
    "        l7.append(i)\n",
    "    else:\n",
    "        l8.append(i)"
   ]
  },
  {
   "cell_type": "code",
   "execution_count": 43,
   "id": "6b4cdd78-ff87-49d8-96c3-25ca0f5716f2",
   "metadata": {},
   "outputs": [
    {
     "data": {
      "text/plain": [
       "[3, 5, 6, 7, 8]"
      ]
     },
     "execution_count": 43,
     "metadata": {},
     "output_type": "execute_result"
    }
   ],
   "source": [
    "l7"
   ]
  },
  {
   "cell_type": "code",
   "execution_count": 44,
   "id": "0b7e7eab-364a-48aa-85d7-a599931b19db",
   "metadata": {},
   "outputs": [
    {
     "data": {
      "text/plain": [
       "['3', 'hii', 'heloo']"
      ]
     },
     "execution_count": 44,
     "metadata": {},
     "output_type": "execute_result"
    }
   ],
   "source": [
    "l8"
   ]
  },
  {
   "cell_type": "code",
   "execution_count": null,
   "id": "55d785ca-5367-4bc9-853a-6fbc994596fa",
   "metadata": {},
   "outputs": [],
   "source": []
  }
 ],
 "metadata": {
  "kernelspec": {
   "display_name": "Python 3 (ipykernel)",
   "language": "python",
   "name": "python3"
  },
  "language_info": {
   "codemirror_mode": {
    "name": "ipython",
    "version": 3
   },
   "file_extension": ".py",
   "mimetype": "text/x-python",
   "name": "python",
   "nbconvert_exporter": "python",
   "pygments_lexer": "ipython3",
   "version": "3.10.8"
  }
 },
 "nbformat": 4,
 "nbformat_minor": 5
}
