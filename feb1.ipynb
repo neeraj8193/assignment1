{
 "cells": [
  {
   "cell_type": "code",
   "execution_count": 1,
   "id": "7bbd9685-1832-487e-91dd-b1dd80f3026d",
   "metadata": {},
   "outputs": [],
   "source": [
    "d={}"
   ]
  },
  {
   "cell_type": "code",
   "execution_count": 2,
   "id": "42e9833a-9b58-4eec-b1fe-e98b0c92a6ec",
   "metadata": {},
   "outputs": [
    {
     "data": {
      "text/plain": [
       "dict"
      ]
     },
     "execution_count": 2,
     "metadata": {},
     "output_type": "execute_result"
    }
   ],
   "source": [
    "type(d)"
   ]
  },
  {
   "cell_type": "code",
   "execution_count": 4,
   "id": "49be3154-2b17-471d-bfa2-466896bec165",
   "metadata": {},
   "outputs": [],
   "source": [
    "d1={'key':'neeraj'}"
   ]
  },
  {
   "cell_type": "code",
   "execution_count": 5,
   "id": "a766b1d0-701d-453a-81d6-c906c6f46fed",
   "metadata": {},
   "outputs": [
    {
     "data": {
      "text/plain": [
       "{'key': 'neeraj'}"
      ]
     },
     "execution_count": 5,
     "metadata": {},
     "output_type": "execute_result"
    }
   ],
   "source": [
    "d1"
   ]
  },
  {
   "cell_type": "code",
   "execution_count": 6,
   "id": "3895e123-e33e-4100-b045-43d7712ace66",
   "metadata": {},
   "outputs": [],
   "source": [
    "d2={'name':'neeraj','email':'nggupta','phone':817682}"
   ]
  },
  {
   "cell_type": "code",
   "execution_count": 7,
   "id": "c2083083-fe40-489a-a1ad-019f85b4258a",
   "metadata": {},
   "outputs": [
    {
     "data": {
      "text/plain": [
       "{'name': 'neeraj', 'email': 'nggupta', 'phone': 817682}"
      ]
     },
     "execution_count": 7,
     "metadata": {},
     "output_type": "execute_result"
    }
   ],
   "source": [
    "d2"
   ]
  },
  {
   "cell_type": "code",
   "execution_count": 6,
   "id": "6638cce9-20bc-418c-a56e-44205ad25afc",
   "metadata": {},
   "outputs": [],
   "source": [
    "d3={234:'neeraj','roll':45,True:'hii'}"
   ]
  },
  {
   "cell_type": "code",
   "execution_count": 7,
   "id": "0c673f0c-dcb4-404a-b553-e8b7f8d07062",
   "metadata": {},
   "outputs": [
    {
     "data": {
      "text/plain": [
       "{234: 'neeraj', 'roll': 45, True: 'hii'}"
      ]
     },
     "execution_count": 7,
     "metadata": {},
     "output_type": "execute_result"
    }
   ],
   "source": [
    "d3"
   ]
  },
  {
   "cell_type": "code",
   "execution_count": 8,
   "id": "702798e6-f3d9-430b-9957-e16727d77e07",
   "metadata": {},
   "outputs": [
    {
     "data": {
      "text/plain": [
       "'neeraj'"
      ]
     },
     "execution_count": 8,
     "metadata": {},
     "output_type": "execute_result"
    }
   ],
   "source": [
    "d3[234]"
   ]
  },
  {
   "cell_type": "code",
   "execution_count": 10,
   "id": "fd94e79f-ce47-4958-8f00-b7e260df2719",
   "metadata": {},
   "outputs": [
    {
     "data": {
      "text/plain": [
       "45"
      ]
     },
     "execution_count": 10,
     "metadata": {},
     "output_type": "execute_result"
    }
   ],
   "source": [
    "d3['roll']"
   ]
  },
  {
   "cell_type": "code",
   "execution_count": 11,
   "id": "f85b97e2-8e5b-4ba3-8f29-1b4bab2d8aa3",
   "metadata": {},
   "outputs": [
    {
     "data": {
      "text/plain": [
       "'hii'"
      ]
     },
     "execution_count": 11,
     "metadata": {},
     "output_type": "execute_result"
    }
   ],
   "source": [
    "d3[1]"
   ]
  },
  {
   "cell_type": "code",
   "execution_count": 12,
   "id": "0e97180e-5d24-4ede-87dd-16958330b1c6",
   "metadata": {},
   "outputs": [
    {
     "data": {
      "text/plain": [
       "'hii'"
      ]
     },
     "execution_count": 12,
     "metadata": {},
     "output_type": "execute_result"
    }
   ],
   "source": [
    "d3[True]"
   ]
  },
  {
   "cell_type": "code",
   "execution_count": 13,
   "id": "8c998c07-76e9-47de-b64c-cd0880dbcf3f",
   "metadata": {},
   "outputs": [],
   "source": [
    "d4={'name':'neeraj','mail':'nggupta','name':'gupta'}"
   ]
  },
  {
   "cell_type": "code",
   "execution_count": 14,
   "id": "6a3df06d-f42b-4c17-8d48-c56806da284c",
   "metadata": {},
   "outputs": [
    {
     "data": {
      "text/plain": [
       "'gupta'"
      ]
     },
     "execution_count": 14,
     "metadata": {},
     "output_type": "execute_result"
    }
   ],
   "source": [
    "d4['name']"
   ]
  },
  {
   "cell_type": "code",
   "execution_count": 1,
   "id": "727c0427-876a-409d-bcc3-d0bfede1685a",
   "metadata": {},
   "outputs": [],
   "source": [
    "d5={'company':'pwskills','course':['js','data science','dsa']}"
   ]
  },
  {
   "cell_type": "code",
   "execution_count": null,
   "id": "14ff70e4-5aaf-420c-a76d-3c05afe2aec2",
   "metadata": {},
   "outputs": [],
   "source": [
    "d5[']"
   ]
  }
 ],
 "metadata": {
  "kernelspec": {
   "display_name": "Python 3 (ipykernel)",
   "language": "python",
   "name": "python3"
  },
  "language_info": {
   "codemirror_mode": {
    "name": "ipython",
    "version": 3
   },
   "file_extension": ".py",
   "mimetype": "text/x-python",
   "name": "python",
   "nbconvert_exporter": "python",
   "pygments_lexer": "ipython3",
   "version": "3.10.8"
  }
 },
 "nbformat": 4,
 "nbformat_minor": 5
}
